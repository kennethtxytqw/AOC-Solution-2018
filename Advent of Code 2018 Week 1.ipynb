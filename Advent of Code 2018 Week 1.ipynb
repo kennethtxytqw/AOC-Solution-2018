{
 "cells": [
  {
   "cell_type": "markdown",
   "metadata": {},
   "source": [
    "# Day 01 Part 1"
   ]
  },
  {
   "cell_type": "code",
   "execution_count": null,
   "metadata": {},
   "outputs": [],
   "source": [
    "freq = 0\n",
    "with open(\"day01.txt\", \"r\") as file:\n",
    "    for line in file:\n",
    "        if line[0] == \"+\":\n",
    "            freq += int(line[1:-1])\n",
    "        else:\n",
    "            freq -= int(line[1:-1])\n",
    "print(freq)"
   ]
  },
  {
   "cell_type": "markdown",
   "metadata": {},
   "source": [
    "# Day 01 Part 2"
   ]
  },
  {
   "cell_type": "code",
   "execution_count": null,
   "metadata": {},
   "outputs": [],
   "source": [
    "freq = 0\n",
    "checklist = set()\n",
    "checklist.add(freq)\n",
    "found = False\n",
    "while(not found):\n",
    "    with open(\"day01.txt\", \"r\") as file:\n",
    "        for line in file:\n",
    "            if line[0] == \"+\":\n",
    "                freq += int(line[1:-1])\n",
    "            else:\n",
    "                freq -= int(line[1:-1])\n",
    "            if freq in checklist:\n",
    "                found = True\n",
    "                print(freq)\n",
    "                break\n",
    "            else:\n",
    "                checklist.add(freq)\n",
    "    "
   ]
  },
  {
   "cell_type": "markdown",
   "metadata": {},
   "source": [
    "# Day 02 Part 1"
   ]
  },
  {
   "cell_type": "code",
   "execution_count": null,
   "metadata": {},
   "outputs": [],
   "source": [
    "countOf2 = 0\n",
    "countOf3 = 0\n",
    "\n",
    "with open(\"day02.txt\", \"r\") as file:\n",
    "    for line in file:\n",
    "        \n",
    "        counts= {}\n",
    "        for letter in line:\n",
    "            if letter in counts:\n",
    "                counts[letter] += 1\n",
    "            else:\n",
    "                counts[letter] = 1\n",
    "        if 2 in counts.values():\n",
    "            countOf2 += 1\n",
    "        if 3 in counts.values():\n",
    "            countOf3 += 1\n",
    "            \n",
    "print(countOf2 * countOf3)"
   ]
  },
  {
   "cell_type": "markdown",
   "metadata": {},
   "source": [
    "# Day 02 Part 2"
   ]
  },
  {
   "cell_type": "code",
   "execution_count": null,
   "metadata": {},
   "outputs": [],
   "source": [
    "checklist = list()\n",
    "with open(\"day02.txt\", \"r\") as file:\n",
    "    for line in file:\n",
    "        for i, letter in enumerate(line):\n",
    "            if i == len(checklist):\n",
    "                checklist.append(set())\n",
    "            str = line[0:i] + line[i+1::]\n",
    "            if str in checklist[i]:\n",
    "                print(str)\n",
    "                break \n",
    "            else:\n",
    "                checklist[i].add(str)\n",
    "            "
   ]
  },
  {
   "cell_type": "markdown",
   "metadata": {},
   "source": [
    "# Day 03 Part 1"
   ]
  },
  {
   "cell_type": "code",
   "execution_count": null,
   "metadata": {},
   "outputs": [],
   "source": [
    "import re\n",
    "\n",
    "checkerboard = [[0 for i in range(2000)] for i in range(2000)]\n",
    "pattern = re.compile(\"#(\\d+) @ (\\d+),(\\d+): (\\d+)x(\\d+)\\n\")\n",
    "with open(\"day03.txt\", \"r\") as file:\n",
    "    for line in file:\n",
    "        m = pattern.match(line)\n",
    "        if m:\n",
    "            id = m.group(1)\n",
    "            x = int(m.group(2))\n",
    "            y = int(m.group(3))\n",
    "            width = int(m.group(4))\n",
    "            length = int(m.group(5))\n",
    "            \n",
    "            for i in range(width):\n",
    "                for j in range(length):\n",
    "                    checkerboard[x+i][y+j] += 1\n",
    "print(sum([sum([1 if val > 1 else 0 for val in row]) for row in checkerboard]))"
   ]
  },
  {
   "cell_type": "markdown",
   "metadata": {},
   "source": [
    "# Day 03 Part 2"
   ]
  },
  {
   "cell_type": "code",
   "execution_count": null,
   "metadata": {},
   "outputs": [],
   "source": [
    "import re\n",
    "\n",
    "checkerboard = [[0 for i in range(2000)] for i in range(2000)]\n",
    "pattern = re.compile(\"#(\\d+) @ (\\d+),(\\d+): (\\d+)x(\\d+)\\n\")\n",
    "\n",
    "# Populate the checkerboard first\n",
    "with open(\"day03.txt\", \"r\") as file:\n",
    "    for line in file:\n",
    "        m = pattern.match(line)\n",
    "        if m:\n",
    "            id = m.group(1)\n",
    "            x = int(m.group(2))\n",
    "            y = int(m.group(3))\n",
    "            width = int(m.group(4))\n",
    "            length = int(m.group(5))\n",
    "            \n",
    "            for i in range(width):\n",
    "                for j in range(length):\n",
    "                    checkerboard[x+i][y+j] += 1\n",
    "                    \n",
    "# Check for overlap\n",
    "with open(\"day03.txt\", \"r\") as file:\n",
    "    for line in file:\n",
    "        overLap = False\n",
    "        m = pattern.match(line)\n",
    "        if m:\n",
    "            id = m.group(1)\n",
    "            x = int(m.group(2))\n",
    "            y = int(m.group(3))\n",
    "            width = int(m.group(4))\n",
    "            length = int(m.group(5))\n",
    "            \n",
    "            for i in range(width):\n",
    "                for j in range(length):\n",
    "                    if checkerboard[x+i][y+j] != 1:\n",
    "                        overLap = True\n",
    "                        break\n",
    "                if overLap:\n",
    "                    break\n",
    "            if not overLap:\n",
    "                print(id)\n",
    "                break\n",
    "                        "
   ]
  },
  {
   "cell_type": "markdown",
   "metadata": {},
   "source": [
    "# Day 04 Part 1"
   ]
  },
  {
   "cell_type": "code",
   "execution_count": null,
   "metadata": {},
   "outputs": [],
   "source": [
    "import re\n",
    "\n",
    "shiftLogPattern = re.compile(\"\\[1518-\\d{2}-\\d{2} \\d{2}:\\d{2}\\] Guard #(\\d+) begins shift\")\n",
    "wakeLogPattern = re.compile(\"\\[1518-\\d{2}-\\d{2} \\d{2}:(\\d{2})\\] wakes up\")\n",
    "asleepLogPattern = re.compile(\"\\[1518-\\d{2}-\\d{2} \\d{2}:(\\d{2})\\] falls asleep\")\n",
    "lines = list()\n",
    "guardId = None\n",
    "lastAwake = None\n",
    "\n",
    "slackers = {}\n",
    "with open(\"day04.txt\", \"r\") as file:\n",
    "    lines = sorted(file)\n",
    "for line in lines:\n",
    "    m = shiftLogPattern.match(line)\n",
    "    if m:\n",
    "        guardId = m.group(1)\n",
    "        if guardId not in slackers:\n",
    "            slackers[guardId] = [0] * 60\n",
    "        continue\n",
    "    \n",
    "    m = asleepLogPattern.match(line)\n",
    "    if m:\n",
    "        lastAwake = int(m.group(1)) - 1\n",
    "        continue\n",
    "        \n",
    "    m = wakeLogPattern.match(line)\n",
    "    if m:\n",
    "        for i in range(int(m.group(1)) - lastAwake):\n",
    "            slackers[guardId][lastAwake+1+i] += 1\n",
    "        continue\n",
    "        \n",
    "slackest = None\n",
    "slackestMinutes = 0\n",
    "\n",
    "for guardId, timestamps in slackers.items():\n",
    "    timeSlacking = sum(timestamps)\n",
    "    if slackestMinutes < timeSlacking:\n",
    "        slackest = guardId\n",
    "        slackestMinutes = timeSlacking\n",
    "\n",
    "print(\"Slackest Guard: \" + slackest)\n",
    "\n",
    "slackestTimestamp = slackers[slackest].index(max(slackers[slackest]))\n",
    "print(\"Slackest Minute: \" + str(slackestTimestamp))\n",
    "print(\"Answer: \" + str(slackestTimestamp * int(slackest)))"
   ]
  },
  {
   "cell_type": "markdown",
   "metadata": {},
   "source": [
    "# Day 04 Part 2"
   ]
  },
  {
   "cell_type": "code",
   "execution_count": null,
   "metadata": {},
   "outputs": [],
   "source": [
    "slackest = None\n",
    "slackestMinuteOccurence = 0\n",
    "slackestMinute = None\n",
    "\n",
    "for guardId, timestamps in slackers.items():\n",
    "    occurence = max(timestamps)\n",
    "    if slackestMinuteOccurence < occurence:\n",
    "        slackest = guardId\n",
    "        slackestMinuteOccurence = occurence\n",
    "        slackestMinute = timestamps.index(occurence)\n",
    "\n",
    "print(\"Slackest Guard: \" + slackest)\n",
    "print(\"SlackestMinute: \" + str(slackestMinute))\n",
    "print(\"Ans: \" + str(slackestMinute * int(slackest)))"
   ]
  },
  {
   "cell_type": "markdown",
   "metadata": {},
   "source": [
    "# Day 05 Part 1"
   ]
  },
  {
   "cell_type": "code",
   "execution_count": null,
   "metadata": {},
   "outputs": [],
   "source": [
    "def react(polymer):\n",
    "    polymer = polymer.rstrip()\n",
    "    counter = 0\n",
    "    while(counter != len(polymer) - 1):\n",
    "        if polymer[counter] != polymer[counter+1] and polymer[counter].lower() == polymer[counter+1].lower():\n",
    "            polymer = polymer[:counter] + (polymer[counter+2:] if len(polymer) > counter + 2 else \"\")\n",
    "            if counter != 0:\n",
    "                counter-=1\n",
    "        else:\n",
    "            counter+=1\n",
    "    return polymer\n",
    "\n",
    "with open(\"day05.txt\", \"r\") as input:\n",
    "    polymer = input.read().rstrip()\n",
    "    polymer = react(polymer)            \n",
    "#     print(\"Polymer: \" + polymer)\n",
    "    print(\"Ans: \" + str(len(polymer)))"
   ]
  },
  {
   "cell_type": "markdown",
   "metadata": {},
   "source": [
    "# Day 05 Part 2"
   ]
  },
  {
   "cell_type": "code",
   "execution_count": null,
   "metadata": {},
   "outputs": [],
   "source": [
    "import re\n",
    "import string\n",
    "import sys\n",
    "\n",
    "shortestPolymer = sys.maxint\n",
    "with open(\"day05.txt\", \"r\") as input:\n",
    "    polymer = input.read().rstrip()\n",
    "    for alphabet in string.ascii_lowercase:\n",
    "        testPolymer = re.sub(alphabet + \"|\" + alphabet.upper() , \"\", polymer)\n",
    "        testPolymer = react(testPolymer)\n",
    "        if shortestPolymer > len(testPolymer):\n",
    "            shortestPolymer = len(testPolymer)\n",
    "print(\"Ans: \" + str(shortestPolymer))"
   ]
  },
  {
   "cell_type": "markdown",
   "metadata": {},
   "source": [
    "# Day 06 Part 1"
   ]
  },
  {
   "cell_type": "code",
   "execution_count": 27,
   "metadata": {},
   "outputs": [
    {
     "name": "stdout",
     "output_type": "stream",
     "text": [
      "[[12 12 12 ... 20 20 20]\n",
      " [12 12 12 ... 20 20 20]\n",
      " [12 12 12 ... 20 20 20]\n",
      " ...\n",
      " [43 43 43 ... 24 24 24]\n",
      " [43 43 43 ... 24 24 24]\n",
      " [43 43 43 ... 24 24 24]]\n",
      "ans: [(-1, 108187), (47, 5532)]\n"
     ]
    }
   ],
   "source": [
    "import re\n",
    "import numpy as np\n",
    "from collections import Counter\n",
    "import sys\n",
    "\n",
    "EMPTY_CELL = -1 # Empty Cell Representation\n",
    "\n",
    "boardSize = 400\n",
    "currBoard = np.zeros((boardSize, boardSize), dtype=int) + EMPTY_CELL\n",
    "\n",
    "coords = list()\n",
    "def manhattanDist(a,b):\n",
    "    return abs(a[0]-b[0]) + abs(a[1]-b[1])\n",
    "\n",
    "with open(\"day06.txt\", \"r\") as input:\n",
    "    coordinatePattern = re.compile(\"(\\d+), (\\d+)\")\n",
    "    \n",
    "    for i, line in enumerate(input):\n",
    "        m = coordinatePattern.match(line)\n",
    "        if m:\n",
    "            x = int(m.group(1))\n",
    "            y = int(m.group(2))\n",
    "            coords.append((x,y))\n",
    "\n",
    "for x in range(boardSize):\n",
    "    for y in range(boardSize):\n",
    "        \n",
    "        closestCoord = EMPTY_CELL\n",
    "        closestDist = sys.maxint\n",
    "        for i, coord in enumerate(coords):\n",
    "            dist = manhattanDist((x,y), coord)\n",
    "#             print(\"dist: \" + str(dist))\n",
    "#             print(closestDist)\n",
    "#             print(\"closestCoord: \" + str(closestCoord))\n",
    "            if closestDist > dist:\n",
    "                closestCoord = i\n",
    "                closestDist = dist\n",
    "            elif closestDist == dist:\n",
    "                closestCoord = EMPTY_CELL\n",
    "        \n",
    "        currBoard[x][y] = closestCoord\n",
    "#         print(currBoard)\n",
    "\n",
    "print(currBoard)\n",
    "for i in range(boardSize):\n",
    "#       Detect areas that are infinite\n",
    "#       First Col\n",
    "    if currBoard[i][0] != EMPTY_CELL:\n",
    "        toReplace = currBoard[i][0]\n",
    "        currBoard[currBoard==toReplace] = EMPTY_CELL\n",
    "#       Last Col\n",
    "    if currBoard[i][boardSize-1] != EMPTY_CELL:\n",
    "        toReplace = currBoard[i][boardSize-1]\n",
    "        currBoard[currBoard==toReplace] = EMPTY_CELL\n",
    "#       First Row\n",
    "    if currBoard[0][i] != EMPTY_CELL:\n",
    "        toReplace = currBoard[0][i]\n",
    "        currBoard[currBoard==toReplace] = EMPTY_CELL\n",
    "#      Last Row\n",
    "    if currBoard[boardSize-1][i] != EMPTY_CELL:\n",
    "        toReplace = currBoard[boardSize-1][i]\n",
    "        currBoard[currBoard==toReplace] = EMPTY_CELL\n",
    "    \n",
    "counter = Counter(currBoard.flatten())\n",
    "\n",
    "# Show two most common element and number of them\n",
    "# As there will be a lot of EMPTY_CELL, the answer should be the second most\n",
    "print(\"ans: \" + str(counter.most_common(2)))"
   ]
  },
  {
   "cell_type": "code",
   "execution_count": 38,
   "metadata": {},
   "outputs": [
    {
     "name": "stdout",
     "output_type": "stream",
     "text": [
      "[[0 0 0 ... 0 0 0]\n",
      " [0 0 0 ... 0 0 0]\n",
      " [0 0 0 ... 0 0 0]\n",
      " ...\n",
      " [0 0 0 ... 0 0 0]\n",
      " [0 0 0 ... 0 0 0]\n",
      " [0 0 0 ... 0 0 0]]\n",
      "ans: 36216\n"
     ]
    }
   ],
   "source": [
    "import re\n",
    "import numpy as np\n",
    "from collections import Counter\n",
    "import sys\n",
    "boardSize = 400\n",
    "bitBoard = np.ones((boardSize, boardSize), dtype=int)\n",
    "THRESHOLD = 10000\n",
    "coords = list()\n",
    "def manhattanDist(a,b):\n",
    "    return abs(a[0]-b[0]) + abs(a[1]-b[1])\n",
    "\n",
    "with open(\"day06.txt\", \"r\") as input:\n",
    "    coordinatePattern = re.compile(\"(\\d+), (\\d+)\")\n",
    "    \n",
    "    for i, line in enumerate(input):\n",
    "        m = coordinatePattern.match(line)\n",
    "        if m:\n",
    "            x = int(m.group(1))\n",
    "            y = int(m.group(2))\n",
    "            coords.append((x,y))\n",
    "\n",
    "for x in range(boardSize):\n",
    "    for y in range(boardSize):\n",
    "        totalDist = 0\n",
    "        \n",
    "        for i, coord in enumerate(coords):\n",
    "            totalDist += manhattanDist((x,y), coord)\n",
    "#             print(\"dist: \" + str(dist))\n",
    "        if THRESHOLD <= totalDist:\n",
    "            bitBoard[x][y] = 0\n",
    "\n",
    "print(bitBoard)\n",
    "print(\"ans: \" + str(sum(sum(bitBoard))))"
   ]
  },
  {
   "cell_type": "markdown",
   "metadata": {},
   "source": [
    "# Day 07 Part 1"
   ]
  },
  {
   "cell_type": "code",
   "execution_count": 1,
   "metadata": {},
   "outputs": [
    {
     "name": "stdout",
     "output_type": "stream",
     "text": [
      "roots: \n",
      "['I', 'U', 'T', 'W']\n",
      "precedents: \n",
      "{'A': set(['Y', 'K', 'J', 'D']), 'C': set(['P', 'K', 'E', 'M', 'O']), 'B': set(['I']), 'E': set(['I', 'V']), 'D': set(['K', 'T', 'F']), 'G': set(['I', 'W']), 'F': set(['G']), 'H': set(['Y', 'N', 'D', 'W', 'V']), 'K': set(['G']), 'J': set(['I']), 'M': set(['G', 'F', 'K', 'J', 'O', 'U', 'Y']), 'L': set(['P', 'R', 'M', 'G', 'W']), 'O': set(['A', 'B', 'D', 'F', 'N', 'U', 'T', 'W']), 'N': set(['J', 'D', 'W', 'F']), 'Q': set(['I', 'Y', 'U', 'T']), 'P': set(['K', 'D', 'O']), 'S': set(['H', 'K', 'R', 'E', 'L']), 'R': set(['C', 'E', 'I', 'H', 'M', 'O', 'Q', 'P', 'U']), 'V': set(['K', 'N']), 'Y': set(['K', 'T', 'W', 'N']), 'X': set(['A', 'E', 'F', 'K', 'J', 'M', 'L', 'S', 'R', 'U', 'T', 'W', 'V', 'Y', 'Z']), 'Z': set(['A', 'C', 'D', 'F', 'M', 'L', 'Q', 'P', 'S', 'Y'])}\n",
      "\n",
      "ans: IBJTUWGFKDNVEYAHOMPCQRLSZX\n"
     ]
    }
   ],
   "source": [
    "import re\n",
    "import heapq\n",
    "\n",
    "instPattern = re.compile(\"Step (\\w) must be finished before step (\\w) can begin.\")\n",
    "\n",
    "insts = set()\n",
    "precedents = {}\n",
    "\n",
    "with open(\"day07.txt\", \"r\") as input:\n",
    "    \n",
    "    for line in input:\n",
    "        m = instPattern.match(line)\n",
    "        if m:\n",
    "            precedent = m.group(1)\n",
    "            ancedent = m.group(2)\n",
    "                \n",
    "            insts.add(precedent)\n",
    "            \n",
    "            if ancedent not in precedents:\n",
    "                precedents[ancedent] = set()\n",
    "                \n",
    "            precedents[ancedent].add(precedent)\n",
    "\n",
    "roots = list()\n",
    "for inst in insts:\n",
    "    if inst not in precedents:\n",
    "        roots.append(inst)\n",
    "        \n",
    "heapq.heapify(roots)\n",
    "\n",
    "print(\"roots: \")\n",
    "print(roots)\n",
    "\n",
    "print(\"precedents: \")\n",
    "print(precedents)\n",
    "\n",
    "\n",
    "result = list()\n",
    "while(len(roots) > 0):\n",
    "    popped = heapq.heappop(roots)\n",
    "        \n",
    "    result.append(popped)\n",
    "    \n",
    "    for ancedent, precedentSet in precedents.items():\n",
    "        if popped in precedentSet:\n",
    "            precedentSet.remove(popped)\n",
    "            if len(precedentSet) == 0:\n",
    "                precedents.pop(ancedent)\n",
    "                heapq.heappush(roots, ancedent)\n",
    "        \n",
    "print()\n",
    "print(\"ans: \" + \"\".join(result))\n",
    "    "
   ]
  },
  {
   "cell_type": "markdown",
   "metadata": {},
   "source": [
    "# Day 07 Part 2"
   ]
  },
  {
   "cell_type": "code",
   "execution_count": 9,
   "metadata": {},
   "outputs": [
    {
     "name": "stdout",
     "output_type": "stream",
     "text": [
      "execution: ITUWBJGFKDNVYEAHQOMPCRLSZX\n",
      "ans: 1118\n"
     ]
    }
   ],
   "source": [
    "import re\n",
    "import heapq\n",
    "\n",
    "instPattern = re.compile(\"Step (\\w) must be finished before step (\\w) can begin.\")\n",
    "\n",
    "insts = set()\n",
    "precedents = {}\n",
    "numWorkers = 5\n",
    "instsInProgress = {}\n",
    "\n",
    "with open(\"day07.txt\", \"r\") as input:\n",
    "    \n",
    "    for line in input:\n",
    "        m = instPattern.match(line)\n",
    "        if m:\n",
    "            precedent = m.group(1)\n",
    "            ancedent = m.group(2)\n",
    "                \n",
    "            insts.add(precedent)\n",
    "            \n",
    "            if ancedent not in precedents:\n",
    "                precedents[ancedent] = set()\n",
    "                \n",
    "            precedents[ancedent].add(precedent)\n",
    "\n",
    "roots = list()\n",
    "for inst in insts:\n",
    "    if inst not in precedents:\n",
    "        roots.append(inst)\n",
    "        \n",
    "heapq.heapify(roots)\n",
    "timeTaken = 0\n",
    "result = list()\n",
    "while(len(roots) > 0 or len(instsInProgress) > 0):\n",
    "    while len(instsInProgress) < 5 and len(roots) > 0:\n",
    "        popped = heapq.heappop(roots)\n",
    "        result.append(popped)\n",
    "        instsInProgress[popped] = 61 + (ord(popped) - ord(\"A\"))\n",
    "        \n",
    "    for inst in instsInProgress.keys():\n",
    "        instsInProgress[inst] -= 1\n",
    "        if instsInProgress[inst] == 0:\n",
    "            instsInProgress.pop(inst)\n",
    "            for ancedent, precedentSet in precedents.items():\n",
    "                if inst in precedentSet:\n",
    "                    precedentSet.remove(inst)\n",
    "                    if len(precedentSet) == 0:\n",
    "                        precedents.pop(ancedent)\n",
    "                        heapq.heappush(roots, ancedent)\n",
    "    \n",
    "    timeTaken += 1    \n",
    "\n",
    "print(\"execution: \" + \"\".join(result))\n",
    "print(\"ans: \" + str(timeTaken))"
   ]
  }
 ],
 "metadata": {
  "kernelspec": {
   "display_name": "VPython",
   "language": "python",
   "name": "vpython"
  },
  "language_info": {
   "codemirror_mode": {
    "name": "ipython",
    "version": 2
   },
   "file_extension": ".py",
   "mimetype": "text/x-python",
   "name": "python",
   "nbconvert_exporter": "python",
   "pygments_lexer": "ipython2",
   "version": "2.7.15rc1"
  }
 },
 "nbformat": 4,
 "nbformat_minor": 2
}
