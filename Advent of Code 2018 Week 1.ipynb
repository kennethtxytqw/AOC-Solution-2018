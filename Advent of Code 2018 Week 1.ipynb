{
 "cells": [
  {
   "cell_type": "markdown",
   "metadata": {},
   "source": [
    "# Day 01 Part 1"
   ]
  },
  {
   "cell_type": "code",
   "execution_count": 1,
   "metadata": {},
   "outputs": [
    {
     "name": "stdout",
     "output_type": "stream",
     "text": [
      "585\n"
     ]
    }
   ],
   "source": [
    "freq = 0\n",
    "with open(\"day01.txt\", \"r\") as file:\n",
    "    for line in file:\n",
    "        if line[0] == \"+\":\n",
    "            freq += int(line[1:-1])\n",
    "        else:\n",
    "            freq -= int(line[1:-1])\n",
    "print(freq)"
   ]
  },
  {
   "cell_type": "markdown",
   "metadata": {},
   "source": [
    "# Day 01 Part 2"
   ]
  },
  {
   "cell_type": "code",
   "execution_count": 2,
   "metadata": {},
   "outputs": [
    {
     "name": "stdout",
     "output_type": "stream",
     "text": [
      "83173\n"
     ]
    }
   ],
   "source": [
    "freq = 0\n",
    "checklist = set()\n",
    "checklist.add(freq)\n",
    "found = False\n",
    "while(not found):\n",
    "    with open(\"day01.txt\", \"r\") as file:\n",
    "        for line in file:\n",
    "            if line[0] == \"+\":\n",
    "                freq += int(line[1:-1])\n",
    "            else:\n",
    "                freq -= int(line[1:-1])\n",
    "            if freq in checklist:\n",
    "                found = True\n",
    "                print(freq)\n",
    "                break\n",
    "            else:\n",
    "                checklist.add(freq)\n",
    "    "
   ]
  },
  {
   "cell_type": "markdown",
   "metadata": {},
   "source": [
    "# Day 02 Part 1"
   ]
  },
  {
   "cell_type": "code",
   "execution_count": 3,
   "metadata": {},
   "outputs": [
    {
     "name": "stdout",
     "output_type": "stream",
     "text": [
      "6370\n"
     ]
    }
   ],
   "source": [
    "countOf2 = 0\n",
    "countOf3 = 0\n",
    "\n",
    "with open(\"day02.txt\", \"r\") as file:\n",
    "    for line in file:\n",
    "        \n",
    "        counts= {}\n",
    "        for letter in line:\n",
    "            if letter in counts:\n",
    "                counts[letter] += 1\n",
    "            else:\n",
    "                counts[letter] = 1\n",
    "        if 2 in counts.values():\n",
    "            countOf2 += 1\n",
    "        if 3 in counts.values():\n",
    "            countOf3 += 1\n",
    "            \n",
    "print(countOf2 * countOf3)"
   ]
  },
  {
   "cell_type": "markdown",
   "metadata": {},
   "source": [
    "# Day 02 Part 2"
   ]
  },
  {
   "cell_type": "code",
   "execution_count": 4,
   "metadata": {},
   "outputs": [
    {
     "name": "stdout",
     "output_type": "stream",
     "text": [
      "rmyxgdlihczskunpfijqcebtv\n",
      "\n"
     ]
    }
   ],
   "source": [
    "checklist = list()\n",
    "with open(\"day02.txt\", \"r\") as file:\n",
    "    for line in file:\n",
    "        for i, letter in enumerate(line):\n",
    "            if i == len(checklist):\n",
    "                checklist.append(set())\n",
    "            str = line[0:i] + line[i+1::]\n",
    "            if str in checklist[i]:\n",
    "                print(str)\n",
    "                break \n",
    "            else:\n",
    "                checklist[i].add(str)\n",
    "            "
   ]
  },
  {
   "cell_type": "markdown",
   "metadata": {},
   "source": [
    "# Day 03 Part 1"
   ]
  },
  {
   "cell_type": "code",
   "execution_count": 6,
   "metadata": {},
   "outputs": [
    {
     "name": "stdout",
     "output_type": "stream",
     "text": [
      "124850\n"
     ]
    }
   ],
   "source": [
    "import re\n",
    "\n",
    "checkerboard = [[0 for i in range(2000)] for i in range(2000)]\n",
    "pattern = re.compile(\"#(\\d+) @ (\\d+),(\\d+): (\\d+)x(\\d+)\\n\")\n",
    "with open(\"day03.txt\", \"r\") as file:\n",
    "    for line in file:\n",
    "        m = pattern.match(line)\n",
    "        if m:\n",
    "            id = m.group(1)\n",
    "            x = int(m.group(2))\n",
    "            y = int(m.group(3))\n",
    "            width = int(m.group(4))\n",
    "            length = int(m.group(5))\n",
    "            \n",
    "            for i in range(width):\n",
    "                for j in range(length):\n",
    "                    checkerboard[x+i][y+j] += 1\n",
    "print(sum([sum([1 if val > 1 else 0 for val in row]) for row in checkerboard]))"
   ]
  },
  {
   "cell_type": "markdown",
   "metadata": {},
   "source": [
    "# Day 03 Part 2"
   ]
  },
  {
   "cell_type": "code",
   "execution_count": 9,
   "metadata": {},
   "outputs": [
    {
     "name": "stdout",
     "output_type": "stream",
     "text": [
      "1097\n"
     ]
    }
   ],
   "source": [
    "import re\n",
    "\n",
    "checkerboard = [[0 for i in range(2000)] for i in range(2000)]\n",
    "pattern = re.compile(\"#(\\d+) @ (\\d+),(\\d+): (\\d+)x(\\d+)\\n\")\n",
    "\n",
    "# Populate the checkerboard first\n",
    "with open(\"day03.txt\", \"r\") as file:\n",
    "    for line in file:\n",
    "        m = pattern.match(line)\n",
    "        if m:\n",
    "            id = m.group(1)\n",
    "            x = int(m.group(2))\n",
    "            y = int(m.group(3))\n",
    "            width = int(m.group(4))\n",
    "            length = int(m.group(5))\n",
    "            \n",
    "            for i in range(width):\n",
    "                for j in range(length):\n",
    "                    checkerboard[x+i][y+j] += 1\n",
    "                    \n",
    "# Check for overlap\n",
    "with open(\"day03.txt\", \"r\") as file:\n",
    "    for line in file:\n",
    "        overLap = False\n",
    "        m = pattern.match(line)\n",
    "        if m:\n",
    "            id = m.group(1)\n",
    "            x = int(m.group(2))\n",
    "            y = int(m.group(3))\n",
    "            width = int(m.group(4))\n",
    "            length = int(m.group(5))\n",
    "            \n",
    "            for i in range(width):\n",
    "                for j in range(length):\n",
    "                    if checkerboard[x+i][y+j] != 1:\n",
    "                        overLap = True\n",
    "                        break\n",
    "                if overLap:\n",
    "                    break\n",
    "            if not overLap:\n",
    "                print(id)\n",
    "                break\n",
    "                        "
   ]
  },
  {
   "cell_type": "markdown",
   "metadata": {},
   "source": [
    "# Day 04 Part 1"
   ]
  },
  {
   "cell_type": "code",
   "execution_count": 18,
   "metadata": {},
   "outputs": [
    {
     "name": "stdout",
     "output_type": "stream",
     "text": [
      "421\n"
     ]
    }
   ],
   "source": [
    "import re\n",
    "\n",
    "shiftLogPattern = re.compile(\"\\[1518-\\d{2}-\\d{2} \\d{2}:\\d{2}\\] Guard #(\\d+) begins shift\")\n",
    "wakeLogPattern = re.compile(\"\\[1518-\\d{2}-\\d{2} \\d{2}:(\\d{2})\\] wakes up\")\n",
    "asleepLogPattern = re.compile(\"\\[1518-\\d{2}-\\d{2} \\d{2}:(\\d{2})\\] falls asleep\")\n",
    "lines = list()\n",
    "guardId = None\n",
    "lastAwake = None\n",
    "\n",
    "slackers = {}\n",
    "with open(\"day04.txt\", \"r\") as file:\n",
    "    lines = sorted(file)\n",
    "for line in lines:\n",
    "    m = shiftLogPattern.match(line)\n",
    "    if m:\n",
    "        guardId = m.group(1)\n",
    "        if guardId not in slackers:\n",
    "            slackers[guardId] = 0\n",
    "        continue\n",
    "    \n",
    "    m = asleepLogPattern.match(line)\n",
    "    if m:\n",
    "        lastAwake = int(m.group(1)) - 1\n",
    "        continue\n",
    "        \n",
    "    m = wakeLogPattern.match(line)\n",
    "    if m:\n",
    "        slackers[guardId] += (int(m.group(1)) - lastAwake)\n",
    "        continue\n",
    "        \n",
    "slackest = None\n",
    "slackestMinutes = 0\n",
    "\n",
    "for guardId, minutes in slackers.items():\n",
    "    if slackestMinutes < minutes:\n",
    "        slackest = guardId\n",
    "        slackestMinutes = minutes\n",
    "\n",
    "print(slackest)\n",
    "        \n",
    "    "
   ]
  },
  {
   "cell_type": "code",
   "execution_count": null,
   "metadata": {},
   "outputs": [],
   "source": []
  }
 ],
 "metadata": {
  "kernelspec": {
   "display_name": "Python 2",
   "language": "python",
   "name": "python2"
  },
  "language_info": {
   "codemirror_mode": {
    "name": "ipython",
    "version": 2
   },
   "file_extension": ".py",
   "mimetype": "text/x-python",
   "name": "python",
   "nbconvert_exporter": "python",
   "pygments_lexer": "ipython2",
   "version": "2.7.15rc1"
  }
 },
 "nbformat": 4,
 "nbformat_minor": 2
}
